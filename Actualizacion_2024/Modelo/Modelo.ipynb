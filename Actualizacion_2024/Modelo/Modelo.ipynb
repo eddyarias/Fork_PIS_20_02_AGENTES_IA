{
 "cells": [
  {
   "cell_type": "code",
   "execution_count": 1,
   "id": "1e357396",
   "metadata": {},
   "outputs": [
    {
     "name": "stdout",
     "output_type": "stream",
     "text": [
      "sagemaker.config INFO - Not applying SDK defaults from location: /etc/xdg/sagemaker/config.yaml\n",
      "sagemaker.config INFO - Not applying SDK defaults from location: /home/ec2-user/.config/sagemaker/config.yaml\n"
     ]
    }
   ],
   "source": [
    "# Carga de la librerias necesarias para el entrenamiento del modelo\n",
    "from sklearn.model_selection import train_test_split\n",
    "from sklearn.neural_network import MLPClassifier\n",
    "from sagemaker import image_uris\n",
    "import pandas as pd\n",
    "import numpy as np\n",
    "import subprocess\n",
    "import sagemaker\n",
    "import warnings\n",
    "import joblib\n",
    "import boto3"
   ]
  },
  {
   "cell_type": "code",
   "execution_count": 2,
   "id": "9faa85f9",
   "metadata": {},
   "outputs": [],
   "source": [
    "# Carga del conjunto de datos y elección de las características\n",
    "filename_dataset = '20221215_151443_pre.csv'\n",
    "df = pd.read_csv(filename_dataset)\n",
    "X = df[['steering_angle_', 'speed', 'rpm_', 'acceleration', 'throttle_position', 'engine_temperature',\n",
    "        'system_voltage', 'heart_rate', 'distance_travelled', 'latitude','longitude', 'current_weather',\n",
    "        'accidents_onsite']]\n",
    "y = df[['accident_rate']]\n",
    "X = X.dropna(axis = 0)\n",
    "x_train, x_test, y_train, y_test = train_test_split(X, y, test_size = 0.20)"
   ]
  },
  {
   "cell_type": "code",
   "execution_count": 3,
   "id": "e1bd9400",
   "metadata": {},
   "outputs": [],
   "source": [
    "# Configurar y entrenar el modelo\n",
    "mlp = MLPClassifier(hidden_layer_sizes = (10, 10, 10), max_iter = 1000)\n",
    "mlp.fit(x_train, y_train.values.ravel())\n",
    "predictions = mlp.predict(x_test)"
   ]
  },
  {
   "cell_type": "code",
   "execution_count": 4,
   "id": "0aadebbd",
   "metadata": {},
   "outputs": [],
   "source": [
    "# Exportación del modelo\n",
    "with open('model.joblib', 'wb') as f:\n",
    "    joblib.dump(mlp, f)"
   ]
  },
  {
   "cell_type": "code",
   "execution_count": 5,
   "id": "0a4e8102",
   "metadata": {},
   "outputs": [],
   "source": [
    "# Comprimiendo el Modelo\n",
    "command = \"tar -cvpzf model.tar.gz model.joblib Inference.py\"\n",
    "process = subprocess.Popen(command.split(), stdout=subprocess.PIPE)\n",
    "output, error = process.communicate()"
   ]
  },
  {
   "cell_type": "code",
   "execution_count": 6,
   "id": "64cceea1",
   "metadata": {},
   "outputs": [],
   "source": [
    "# Subir el modelo a S3\n",
    "s3 = boto3.session.Session().resource('s3')\n",
    "session_sagemaker = sagemaker.Session()\n",
    "bucket = session_sagemaker.default_bucket() \n",
    "response = s3.meta.client.upload_file('model.tar.gz', bucket, 'model.tar.gz')"
   ]
  },
  {
   "cell_type": "code",
   "execution_count": 7,
   "id": "8ca15c4b",
   "metadata": {},
   "outputs": [],
   "source": [
    "# Obtener nombre de región y configurar el cliente\n",
    "region = boto3.Session().region_name\n",
    "client = boto3.client(\"sagemaker\", region_name = region)"
   ]
  },
  {
   "cell_type": "code",
   "execution_count": 8,
   "id": "8aa7a09f",
   "metadata": {},
   "outputs": [],
   "source": [
    "# Rol para otorgar permiso a SageMaker para acceder a los servicios de AWS.\n",
    "sagemaker_role = sagemaker.get_execution_role()"
   ]
  },
  {
   "cell_type": "code",
   "execution_count": 9,
   "id": "6d500d7b",
   "metadata": {},
   "outputs": [],
   "source": [
    "# Obtener modelo de S3\n",
    "model_url = f\"s3://{bucket}/model.tar.gz\""
   ]
  },
  {
   "cell_type": "code",
   "execution_count": 10,
   "id": "2030f44d",
   "metadata": {},
   "outputs": [],
   "source": [
    "# Obtener imagen de contenedor (ejemplo prediseñado)\n",
    "container = image_uris.retrieve(framework = 'sklearn', \n",
    "                                region = region, \n",
    "                                version = '0.23-1', \n",
    "                                py_version = \"py3\", \n",
    "                                instance_type = \"ml.m5.large\")"
   ]
  },
  {
   "cell_type": "code",
   "execution_count": 11,
   "id": "39cf0d5a",
   "metadata": {},
   "outputs": [],
   "source": [
    "# Crear modelo\n",
    "model_name = \"accident-prediction\"\n",
    "model_artifacts = f\"s3://{bucket}/model.tar.gz\"\n",
    "response = client.create_model(\n",
    "    ModelName = model_name,\n",
    "    ExecutionRoleArn = sagemaker_role,\n",
    "    Containers = [{\n",
    "        \"Image\": container,\n",
    "        \"Mode\": \"SingleModel\",\n",
    "        \"ModelDataUrl\": model_url,\n",
    "        \"Environment\": {'SAGEMAKER_SUBMIT_DIRECTORY': model_artifacts,'SAGEMAKER_PROGRAM': 'Inference.py'} \n",
    "    }]\n",
    ")"
   ]
  },
  {
   "cell_type": "code",
   "execution_count": 12,
   "id": "756e9e72",
   "metadata": {},
   "outputs": [],
   "source": [
    "# Configurar el punto final\n",
    "configuration_name = \"endpoint-configuration-prediction-model\"\n",
    "response = client.create_endpoint_config(\n",
    "   EndpointConfigName = configuration_name,\n",
    "   ProductionVariants = [\n",
    "        {\n",
    "            \"ModelName\": model_name,\n",
    "            \"VariantName\": \"accident\",\n",
    "            \"InstanceType\": \"ml.m5.large\",\n",
    "            \"InitialInstanceCount\": 1\n",
    "        } \n",
    "    ]\n",
    ")"
   ]
  },
  {
   "cell_type": "code",
   "execution_count": 13,
   "id": "f8b57aae",
   "metadata": {},
   "outputs": [],
   "source": [
    "# Crear el punto final\n",
    "response = client.create_endpoint(\n",
    "    EndpointName = \"endpoint-accident-prediction\",\n",
    "    EndpointConfigName = configuration_name\n",
    ")"
   ]
  }
 ],
 "metadata": {
  "kernelspec": {
   "display_name": "conda_python3",
   "language": "python",
   "name": "conda_python3"
  },
  "language_info": {
   "codemirror_mode": {
    "name": "ipython",
    "version": 3
   },
   "file_extension": ".py",
   "mimetype": "text/x-python",
   "name": "python",
   "nbconvert_exporter": "python",
   "pygments_lexer": "ipython3",
   "version": "3.10.13"
  }
 },
 "nbformat": 4,
 "nbformat_minor": 5
}
