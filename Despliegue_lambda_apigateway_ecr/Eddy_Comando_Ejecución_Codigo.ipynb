{
 "cells": [
  {
   "cell_type": "code",
   "execution_count": 1,
   "metadata": {},
   "outputs": [],
   "source": [
    "import pandas as pd\n",
    "import numpy as np\n",
    "import requests\n",
    "import json\n",
    "import time"
   ]
  },
  {
   "cell_type": "code",
   "execution_count": 2,
   "metadata": {},
   "outputs": [],
   "source": [
    "filename_dataset = '../Actualizacion_2024/Cliente/20221215_151443_pre.csv'\n",
    "df = pd.read_csv(filename_dataset)"
   ]
  },
  {
   "cell_type": "code",
   "execution_count": 3,
   "metadata": {},
   "outputs": [],
   "source": [
    "X = df[['steering_angle_', 'speed', 'rpm_', 'acceleration', 'throttle_position', 'engine_temperature','system_voltage', \n",
    "            'heart_rate', 'distance_travelled', 'latitude','longitude', 'current_weather', 'accidents_onsite']]"
   ]
  },
  {
   "cell_type": "code",
   "execution_count": 4,
   "metadata": {},
   "outputs": [
    {
     "name": "stdout",
     "output_type": "stream",
     "text": [
      "<class 'pandas.core.frame.DataFrame'>\n",
      "RangeIndex: 2634 entries, 0 to 2633\n",
      "Data columns (total 13 columns):\n",
      " #   Column              Non-Null Count  Dtype  \n",
      "---  ------              --------------  -----  \n",
      " 0   steering_angle_     2634 non-null   float64\n",
      " 1   speed               2634 non-null   int64  \n",
      " 2   rpm_                2634 non-null   float64\n",
      " 3   acceleration        2634 non-null   float64\n",
      " 4   throttle_position   2634 non-null   float64\n",
      " 5   engine_temperature  2634 non-null   int64  \n",
      " 6   system_voltage      2634 non-null   float64\n",
      " 7   heart_rate          2634 non-null   int64  \n",
      " 8   distance_travelled  2634 non-null   float64\n",
      " 9   latitude            2634 non-null   float64\n",
      " 10  longitude           2634 non-null   float64\n",
      " 11  current_weather     2634 non-null   int64  \n",
      " 12  accidents_onsite    2634 non-null   int64  \n",
      "dtypes: float64(8), int64(5)\n",
      "memory usage: 267.6 KB\n"
     ]
    }
   ],
   "source": [
    "X.info()"
   ]
  },
  {
   "cell_type": "code",
   "execution_count": 5,
   "metadata": {},
   "outputs": [
    {
     "name": "stdout",
     "output_type": "stream",
     "text": [
      "El valor riesgo para: '[[25.6, 75.0, 5623.5, 0.0, 49.41176471, 89.0, 12.8, 69.0, 22.44129569, -0.236928659, -78.32793631, 2.0, 10.0]]' es 'HIGH'.\n",
      "{'Output': 3}\n",
      "        \n",
      "El valor riesgo para: '[[44.8, 71.0, 3369.0, 0.0, 17.64705882, 89.0, 12.9, 67.0, 32.73576516, -0.14975741, -78.35247198, 1.0, 0.0]]' es 'MEDIUM'.\n",
      "{'Output': 2}\n",
      "        \n",
      "El valor riesgo para: '[[198.4, 62.0, 3610.5, 0.0, 28.62745098, 89.0, 12.9, 63.0, 14.58204614, -0.281302328, -78.34452686, 2.0, 2.0]]' es 'MEDIUM'.\n",
      "{'Output': 2}\n",
      "        \n",
      "El valor riesgo para: '[[4.9, 30.0, 1486.0, 0.0, 14.50980392, 88.0, 12.8, 66.0, 3.486191896, -0.325705209, -78.41213613, 2.0, 9.0]]' es 'VERY HIGH'.\n",
      "{'Output': 4}\n",
      "        \n",
      "El valor riesgo para: '[[11.3, 34.0, 2558.0, 0.577673319, 23.52941176, 88.0, 12.8, 69.0, 35.20369176, -0.128291273, -78.36077585, 1.0, 4.0]]' es 'MEDIUM'.\n",
      "{'Output': 2}\n",
      "        \n",
      "El valor riesgo para: '[[-122.4, 73.0, 4272.0, 0.189144046, 24.70588235, 87.0, 12.9, 65.0, 17.67972718, -0.269697122, -78.33251073, 2.0, 3.0]]' es 'MEDIUM'.\n",
      "{'Output': 2}\n",
      "        \n",
      "El valor riesgo para: '[[2.2, 6.0, 913.0, 0.0, 13.7254902, 90.0, 12.8, 67.0, 9.805019543, -0.316421622, -78.36789904, 2.0, 5.0]]' es 'MEDIUM'.\n",
      "{'Output': 2}\n",
      "        \n",
      "El valor riesgo para: '[[57.6, 67.0, 3858.0, 0.583471925, 71.76470588, 89.0, 12.8, 71.0, 12.53528217, -0.294811735, -78.35538469, 2.0, 4.0]]' es 'MEDIUM'.\n",
      "{'Output': 2}\n",
      "        \n",
      "El valor riesgo para: '[[42.4, 71.0, 4134.0, 0.0, 18.43137255, 88.0, 12.8, 71.0, 4.066564254, -0.326445415, -78.40732148, 2.0, 6.0]]' es 'MEDIUM'.\n",
      "{'Output': 2}\n",
      "        \n",
      "El valor riesgo para: '[[278.7, 0.0, 645.0, 0.0, 14.11764706, 90.0, 12.6, 71.0, 36.32004095, -0.125154178, -78.36166483, 1.0, 2.0]]' es 'MEDIUM'.\n",
      "{'Output': 2}\n",
      "        \n",
      "El valor riesgo para: '[[33.2, 0.0, 660.0, 0.0, 21.56862745, 89.0, 12.8, 76.0, 0.000563183, -0.330887069, -78.43234641, 2.0, 21.0]]' es 'MEDIUM'.\n",
      "{'Output': 2}\n",
      "        \n",
      "El valor riesgo para: '[[-261.3, 3.0, 1499.0, 0.383048968, 30.58823529, 91.0, 12.8, 68.0, 9.814905268, -0.316337426, -78.36783542, 2.0, 5.0]]' es 'LOW'.\n",
      "{'Output': 1}\n",
      "        \n",
      "El valor riesgo para: '[[-25.9, 19.0, 2708.0, 1.748735091, 41.17647059, 89.0, 12.9, 73.0, 0.010865429, -0.330847003, -78.43230927, 2.0, 21.0]]' es 'MEDIUM'.\n",
      "{'Output': 2}\n",
      "        \n",
      "El valor riesgo para: '[[228.0, 70.0, 4021.5, 0.546160556, 53.7254902, 88.0, 12.8, 71.0, 12.16449677, -0.297685973, -78.35698547, 2.0, 4.0]]' es 'MEDIUM'.\n",
      "{'Output': 2}\n",
      "        \n",
      "El valor riesgo para: '[[69.6, 66.0, 3139.5, 0.274973284, 38.03921569, 91.0, 12.9, 63.0, 30.44123564, -0.169138634, -78.34324971, 1.0, 2.0]]' es 'MEDIUM'.\n",
      "{'Output': 2}\n",
      "        \n",
      "El valor riesgo para: '[[171.2, 71.0, 4089.0, 0.195685141, 18.43137255, 88.0, 12.9, 62.0, 17.43700079, -0.271602287, -78.33377455, 2.0, 4.0]]' es 'MEDIUM'.\n",
      "{'Output': 2}\n",
      "        \n",
      "El valor riesgo para: '[[41.6, 69.0, 3997.5, 0.35364469, 25.49019608, 89.0, 12.9, 65.0, 5.829352977, -0.326328655, -78.39557374, 2.0, 7.0]]' es 'MEDIUM'.\n",
      "{'Output': 2}\n",
      "        \n",
      "El valor riesgo para: '[[40.8, 72.0, 4177.5, 0.0, 18.43137255, 88.0, 12.8, 68.0, 4.327548405, -0.324481535, -78.40628732, 2.0, 6.0]]' es 'HIGH'.\n",
      "{'Output': 3}\n",
      "        \n",
      "El valor riesgo para: '[[40.0, 63.0, 4725.0, 0.455377826, 72.54901961, 88.0, 12.8, 67.0, 19.46944226, -0.257027289, -78.33422072, 2.0, 3.0]]' es 'HIGH'.\n",
      "{'Output': 3}\n",
      "        \n",
      "El valor riesgo para: '[[-8.1, 2.0, 783.0, 0.0, 14.50980392, 91.0, 12.8, 65.0, 35.13429987, -0.128862835, -78.36073637, 1.0, 3.0]]' es 'MEDIUM'.\n",
      "{'Output': 2}\n",
      "        \n"
     ]
    }
   ],
   "source": [
    "def Agente():\n",
    "    url = 'https://p06oxwlef9.execute-api.eu-north-1.amazonaws.com/FasePreliminar/Recurso_predictor'\n",
    "    counter = 0\n",
    "    risk_level_values = {1: 'low', 2: 'medium', 3: 'high', 4: 'very high'}\n",
    "\n",
    "    while counter < 20:\n",
    "        random_number = np.random.randint(0, 2633 + 1)\n",
    "        data = X.loc[[random_number]].values.tolist()\n",
    "        my_obj = {\"Input\": data}\n",
    "        response = requests.post(url, data = json.dumps(my_obj))\n",
    "        risk_level = eval(response.text)\n",
    "        risk_level_category = \"\"\n",
    "        for value in risk_level_values:\n",
    "            if value == risk_level['Output']:\n",
    "                risk_level_category = risk_level_values[value]\n",
    "                break\n",
    "        print(\"El valor riesgo para: '{}' es '{}'.\".format(my_obj['Input'], risk_level_category.upper()))\n",
    "        print(risk_level)\n",
    "        print(\"        \")\n",
    "        counter = counter + 1\n",
    "        time.sleep(0.25)\n",
    "Agente()"
   ]
  },
  {
   "cell_type": "code",
   "execution_count": null,
   "metadata": {},
   "outputs": [],
   "source": []
  }
 ],
 "metadata": {
  "kernelspec": {
   "display_name": "Python 3",
   "language": "python",
   "name": "python3"
  },
  "language_info": {
   "codemirror_mode": {
    "name": "ipython",
    "version": 3
   },
   "file_extension": ".py",
   "mimetype": "text/x-python",
   "name": "python",
   "nbconvert_exporter": "python",
   "pygments_lexer": "ipython3",
   "version": "3.8.10"
  }
 },
 "nbformat": 4,
 "nbformat_minor": 2
}
