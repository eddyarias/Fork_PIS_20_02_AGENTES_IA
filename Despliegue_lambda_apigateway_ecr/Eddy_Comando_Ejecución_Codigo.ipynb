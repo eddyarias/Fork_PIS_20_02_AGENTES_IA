{
 "cells": [
  {
   "cell_type": "code",
   "execution_count": 4,
   "metadata": {},
   "outputs": [],
   "source": [
    "import pandas as pd\n",
    "import numpy as np\n",
    "import requests\n",
    "import json\n",
    "import time"
   ]
  },
  {
   "cell_type": "code",
   "execution_count": 5,
   "metadata": {},
   "outputs": [],
   "source": [
    "filename_dataset = '../Actualizacion_2024/Cliente/20221215_151443_pre.csv'\n",
    "df = pd.read_csv(filename_dataset)"
   ]
  },
  {
   "cell_type": "code",
   "execution_count": 6,
   "metadata": {},
   "outputs": [],
   "source": [
    "X = df[['steering_angle_', 'speed', 'rpm_', 'acceleration', 'throttle_position', 'engine_temperature','system_voltage', \n",
    "            'heart_rate', 'distance_travelled', 'latitude','longitude', 'current_weather', 'accidents_onsite']]"
   ]
  },
  {
   "cell_type": "code",
   "execution_count": 7,
   "metadata": {},
   "outputs": [
    {
     "name": "stdout",
     "output_type": "stream",
     "text": [
      "<class 'pandas.core.frame.DataFrame'>\n",
      "RangeIndex: 2634 entries, 0 to 2633\n",
      "Data columns (total 13 columns):\n",
      " #   Column              Non-Null Count  Dtype  \n",
      "---  ------              --------------  -----  \n",
      " 0   steering_angle_     2634 non-null   float64\n",
      " 1   speed               2634 non-null   int64  \n",
      " 2   rpm_                2634 non-null   float64\n",
      " 3   acceleration        2634 non-null   float64\n",
      " 4   throttle_position   2634 non-null   float64\n",
      " 5   engine_temperature  2634 non-null   int64  \n",
      " 6   system_voltage      2634 non-null   float64\n",
      " 7   heart_rate          2634 non-null   int64  \n",
      " 8   distance_travelled  2634 non-null   float64\n",
      " 9   latitude            2634 non-null   float64\n",
      " 10  longitude           2634 non-null   float64\n",
      " 11  current_weather     2634 non-null   int64  \n",
      " 12  accidents_onsite    2634 non-null   int64  \n",
      "dtypes: float64(8), int64(5)\n",
      "memory usage: 267.6 KB\n"
     ]
    }
   ],
   "source": [
    "X.info()"
   ]
  },
  {
   "cell_type": "code",
   "execution_count": 9,
   "metadata": {},
   "outputs": [
    {
     "name": "stdout",
     "output_type": "stream",
     "text": [
      "El valor riesgo para: '[[8.4, 0.0, 811.0, 0.0, 13.7254902, 90.0, 12.8, 66.0, 32.08447382, -0.154857673, -78.34936934, 1.0, 2.0]]' es 'MEDIUM'.\n",
      "{'Output': 2}\n",
      "        \n",
      "El valor riesgo para: '[[43.2, 71.0, 4111.5, 0.0, 18.43137255, 89.0, 12.9, 68.0, 16.36347733, -0.278398921, -78.33847186, 2.0, 2.0]]' es 'MEDIUM'.\n",
      "{'Output': 2}\n",
      "        \n",
      "El valor riesgo para: '[[129.6, 78.0, 3711.0, 0.0, 22.35294118, 89.0, 12.8, 63.0, 29.5043066, -0.177573175, -78.34172931, 1.0, 0.0]]' es 'MEDIUM'.\n",
      "{'Output': 2}\n",
      "        \n",
      "El valor riesgo para: '[[6.2, 44.0, 2111.0, 0.0, 14.90196078, 88.0, 12.8, 66.0, 0.634661575, -0.328136464, -78.42727317, 2.0, 5.0]]' es 'VERY HIGH'.\n",
      "{'Output': 4}\n",
      "        \n",
      "El valor riesgo para: '[[-3.8, 40.0, 2030.0, 0.211480582, 50.19607843, 89.0, 12.8, 68.0, 0.253369396, -0.329434862, -78.43066466, 2.0, 8.0]]' es 'VERY HIGH'.\n",
      "{'Output': 4}\n",
      "        \n",
      "El valor riesgo para: '[[29.6, 80.0, 3787.5, 0.0, 18.03921569, 88.0, 12.8, 69.0, 29.07037527, -0.181449051, -78.34044294, 1.0, 2.0]]' es 'MEDIUM'.\n",
      "{'Output': 2}\n",
      "        \n",
      "El valor riesgo para: '[[-211.2, 61.0, 3589.5, 0.0, 17.64705882, 87.0, 12.8, 64.0, 15.25246681, -0.276949983, -78.34685041, 2.0, 2.0]]' es 'MEDIUM'.\n",
      "{'Output': 2}\n",
      "        \n",
      "El valor riesgo para: '[[9.2, 35.0, 2655.0, 0.926168891, 65.88235294, 90.0, 12.8, 69.0, 3.566007524, -0.326099116, -78.4115219, 2.0, 9.0]]' es 'MEDIUM'.\n",
      "{'Output': 2}\n",
      "        \n",
      "El valor riesgo para: '[[-6.6, 36.0, 1800.0, 0.0, 15.68627451, 89.0, 12.8, 70.0, 35.0248833, -0.129882158, -78.36029121, 1.0, 3.0]]' es 'VERY HIGH'.\n",
      "{'Output': 4}\n",
      "        \n",
      "El valor riesgo para: '[[40.0, 87.0, 5061.0, 0.146609414, 19.60784314, 87.0, 12.9, 66.0, 23.43380303, -0.228319354, -78.32669721, 2.0, 0.0]]' es 'HIGH'.\n",
      "{'Output': 3}\n",
      "        \n",
      "El valor riesgo para: '[[-4.6, 12.0, 959.0, 0.0, 14.50980392, 90.0, 12.7, 64.0, 36.15588107, -0.124925561, -78.36196306, 1.0, 2.0]]' es 'MEDIUM'.\n",
      "{'Output': 2}\n",
      "        \n",
      "El valor riesgo para: '[[9.0, 0.0, 732.0, 0.0, 14.90196078, 89.0, 12.8, 66.0, 3.519126109, -0.325941369, -78.41176967, 2.0, 9.0]]' es 'MEDIUM'.\n",
      "{'Output': 2}\n",
      "        \n",
      "El valor riesgo para: '[[-8.0, 0.0, 807.0, 0.0, 14.11764706, 90.0, 12.7, 65.0, 35.13429987, -0.128861577, -78.36073629, 1.0, 3.0]]' es 'MEDIUM'.\n",
      "{'Output': 2}\n",
      "        \n",
      "El valor riesgo para: '[[432.3, 8.0, 1247.0, 0.773456615, 16.07843137, 90.0, 12.7, 69.0, 35.92630859, -0.123673431, -78.36150893, 1.0, 1.0]]' es 'MEDIUM'.\n",
      "{'Output': 2}\n",
      "        \n",
      "El valor riesgo para: '[[82.4, 56.0, 4192.5, 0.200153447, 69.01960784, 88.0, 12.9, 71.0, 3.672254233, -0.326639246, -78.41079083, 2.0, 7.0]]' es 'MEDIUM'.\n",
      "{'Output': 2}\n",
      "        \n",
      "El valor riesgo para: '[[-87.2, 56.0, 4183.5, 0.0, 65.49019608, 89.0, 12.9, 64.0, 19.38293424, -0.257711671, -78.33390363, 2.0, 1.0]]' es 'MEDIUM'.\n",
      "{'Output': 2}\n",
      "        \n",
      "El valor riesgo para: '[[42.4, 60.0, 3516.0, 0.0, 17.64705882, 89.0, 12.8, 65.0, 6.93983929, -0.329849347, -78.38592743, 2.0, 9.0]]' es 'MEDIUM'.\n",
      "{'Output': 2}\n",
      "        \n",
      "El valor riesgo para: '[[6.5, 38.0, 1919.0, 0.810922221, 28.62745098, 88.0, 12.8, 69.0, 32.16411016, -0.154186995, -78.34966932, 1.0, 2.0]]' es 'VERY HIGH'.\n",
      "{'Output': 4}\n",
      "        \n",
      "El valor riesgo para: '[[52.8, 70.0, 4057.5, 0.202994813, 18.03921569, 88.0, 12.9, 63.0, 8.040680122, -0.325317755, -78.37869032, 2.0, 2.0]]' es 'MEDIUM'.\n",
      "{'Output': 2}\n",
      "        \n",
      "El valor riesgo para: '[[-1.7, 13.0, 1024.0, 0.0, 19.21568627, 90.0, 12.7, 64.0, 36.14336964, -0.124811777, -78.3619722, 1.0, 2.0]]' es 'MEDIUM'.\n",
      "{'Output': 2}\n",
      "        \n"
     ]
    }
   ],
   "source": [
    "def Agente():\n",
    "    url = 'https://ye3c74bo62.execute-api.us-east-1.amazonaws.com/nueva_etapa/recurso-mlp-predictor'\n",
    "    counter = 0\n",
    "    risk_level_values = {1: 'low', 2: 'medium', 3: 'high', 4: 'very high'}\n",
    "\n",
    "    while counter < 20:\n",
    "        random_number = np.random.randint(0, 2634)\n",
    "        data = X.loc[[random_number]].values.tolist()\n",
    "        my_obj = {\"Input\": data}\n",
    "\n",
    "        response = requests.post(url, data=json.dumps(my_obj))\n",
    "\n",
    "        if response.status_code == 200:\n",
    "            outer = json.loads(response.text)               # Primer parsing\n",
    "            inner = json.loads(outer['body'])               # Segundo parsing\n",
    "            output_value = inner['Output']                  # Obtener valor numérico\n",
    "\n",
    "            risk_level_category = risk_level_values.get(output_value, 'unknown')\n",
    "\n",
    "            print(\"El valor riesgo para: '{}' es '{}'.\".format(my_obj['Input'], risk_level_category.upper()))\n",
    "            print(inner)\n",
    "            print(\"        \")\n",
    "        else:\n",
    "            print(f\"Error en la solicitud: {response.status_code}\")\n",
    "        \n",
    "        counter += 1\n",
    "        time.sleep(0.25)\n",
    "\n",
    "Agente()"
   ]
  }
 ],
 "metadata": {
  "kernelspec": {
   "display_name": "Python 3",
   "language": "python",
   "name": "python3"
  },
  "language_info": {
   "codemirror_mode": {
    "name": "ipython",
    "version": 3
   },
   "file_extension": ".py",
   "mimetype": "text/x-python",
   "name": "python",
   "nbconvert_exporter": "python",
   "pygments_lexer": "ipython3",
   "version": "3.8.0"
  }
 },
 "nbformat": 4,
 "nbformat_minor": 2
}
